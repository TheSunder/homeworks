{
 "cells": [
  {
   "cell_type": "markdown",
   "metadata": {},
   "source": [
    "**Задание 1**\n",
    "\n",
    "Печатные газеты использовали свой формат дат для каждого выпуска. Для каждой газеты из списка напишите формат указанной даты для перевода в объект datetime:\n",
    "- The Moscow Times - Wednesday, October 2, 2002\n",
    "- The Guardian - Friday, 11.10.13\n",
    "- Daily News - Thursday, 18 August 1977"
   ]
  },
  {
   "cell_type": "code",
   "execution_count": 2,
   "metadata": {},
   "outputs": [
    {
     "data": {
      "text/plain": [
       "datetime.datetime(2002, 10, 2, 0, 0)"
      ]
     },
     "execution_count": 2,
     "metadata": {},
     "output_type": "execute_result"
    }
   ],
   "source": [
    "from datetime import datetime\n",
    "The_Moscow_Times = 'Wednesday, October 2, 2002'\n",
    "date_datetime = datetime.strptime( The_Moscow_Times, '%A,  %B %d, %Y' )\n",
    "date_datetime"
   ]
  },
  {
   "cell_type": "code",
   "execution_count": 3,
   "metadata": {},
   "outputs": [
    {
     "data": {
      "text/plain": [
       "datetime.datetime(2013, 10, 11, 0, 0)"
      ]
     },
     "execution_count": 3,
     "metadata": {},
     "output_type": "execute_result"
    }
   ],
   "source": [
    "from datetime import datetime\n",
    "The_Guardian = 'Friday, 11.10.13'\n",
    "date_datetime = datetime.strptime( The_Guardian, '%A, %d.%m.%y' )\n",
    "date_datetime"
   ]
  },
  {
   "cell_type": "code",
   "execution_count": 5,
   "metadata": {},
   "outputs": [
    {
     "data": {
      "text/plain": [
       "datetime.datetime(1977, 8, 18, 0, 0)"
      ]
     },
     "execution_count": 5,
     "metadata": {},
     "output_type": "execute_result"
    }
   ],
   "source": [
    "from datetime import datetime\n",
    "Daily_News  = 'Thursday, 18 August 1977'\n",
    "date_datetime = datetime.strptime( Daily_News, '%A, %d %B %Y' )\n",
    "date_datetime"
   ]
  },
  {
   "cell_type": "markdown",
   "metadata": {},
   "source": [
    "**Задание 2**\n",
    "\n",
    "Дан поток дат в формате YYYY-MM-DD, в которых встречаются некорректные значения:\n",
    "- stream = [‘2018-04-02’, ‘2018-02-29’, ‘2018-19-02’]\n",
    "\n",
    "Напишите функцию, которая проверяет эти даты на корректность. Т. е. для каждой даты возвращает True (дата корректна) или False (некорректная дата)."
   ]
  },
  {
   "cell_type": "code",
   "execution_count": 16,
   "metadata": {},
   "outputs": [
    {
     "name": "stdout",
     "output_type": "stream",
     "text": [
      "Дата корректна\n",
      "True\n",
      "Дата некорректна\n",
      "False\n",
      "Дата некорректна\n",
      "False\n"
     ]
    }
   ],
   "source": [
    "from datetime import datetime\n",
    "stream = ['2018-04-02', '2018-02-29', '2018-19-02']\n",
    "\n",
    "def check_date(date):\n",
    "        try:\n",
    "            datetime.strptime( date, '%Y-%m-%d' )\n",
    "            print('Дата корректна')\n",
    "            return True\n",
    "        except:\n",
    "            print('Дата некорректна')\n",
    "            return False\n",
    "            \n",
    "for date in stream:\n",
    "    print(check_date(date))\n",
    "            \n",
    "        "
   ]
  },
  {
   "cell_type": "markdown",
   "metadata": {},
   "source": [
    "**Задание 3**\n",
    "\n",
    "Напишите функцию date_range, которая возвращает список дат за период от start_date до end_date. Даты должны вводиться в формате YYYY-MM-DD. В случае неверного формата или при start_date > end_date должен возвращаться пустой список."
   ]
  },
  {
   "cell_type": "code",
   "execution_count": 47,
   "metadata": {},
   "outputs": [
    {
     "name": "stdout",
     "output_type": "stream",
     "text": [
      "Введите начальную дату: 2000-01-11\n",
      "Введите конечную дату: 2000-01-14\n"
     ]
    },
    {
     "data": {
      "text/plain": [
       "['2000-01-11', '2000-01-12', '2000-01-13', '2000-01-14']"
      ]
     },
     "execution_count": 47,
     "metadata": {},
     "output_type": "execute_result"
    }
   ],
   "source": [
    "from datetime import datetime\n",
    "from datetime import timedelta\n",
    "def date_range():\n",
    "    date = []\n",
    "    start=str(input('Введите начальную дату: '))\n",
    "    end=str(input('Введите конечную дату: '))\n",
    "    try:\n",
    "        start_date = datetime.strptime( start, '%Y-%m-%d' )\n",
    "        end_date = datetime.strptime( end, '%Y-%m-%d' )\n",
    "    except:\n",
    "        return date\n",
    "    if (start_date < end_date):\n",
    "        current_date = start_date\n",
    "        while (current_date <= end_date):\n",
    "            current = datetime.strftime( start_date, '%Y-%m-%d' )\n",
    "            date.append(datetime.strftime(current_date, '%Y-%m-%d' ))\n",
    "            current_date = current_date + timedelta(days=1)\n",
    "        return date\n",
    "    else:\n",
    "        return date\n",
    "date_range()\n"
   ]
  },
  {
   "cell_type": "markdown",
   "metadata": {},
   "source": [
    "**Задание 4**"
   ]
  },
  {
   "cell_type": "markdown",
   "metadata": {},
   "source": [
    "**Задание:**\n",
    "\n",
    "Что значит ошибка list index out of range?\n",
    "\n",
    "Почему при первом запуске функция работает корректно, а при втором - нет?"
   ]
  },
  {
   "cell_type": "markdown",
   "metadata": {},
   "source": [
    "**Ответ:**\n",
    "\n",
    "Во время второй итерации элемент с индексом 1 будет удален. Данная ошибка будет возникать как раз из-за того, что мы будем обращаться к удаленному элементу, когда уже в списке останется только один элемент с нулевым индексом.\n"
   ]
  },
  {
   "cell_type": "code",
   "execution_count": null,
   "metadata": {},
   "outputs": [],
   "source": []
  }
 ],
 "metadata": {
  "kernelspec": {
   "display_name": "Python 3",
   "language": "python",
   "name": "python3"
  },
  "language_info": {
   "codemirror_mode": {
    "name": "ipython",
    "version": 3
   },
   "file_extension": ".py",
   "mimetype": "text/x-python",
   "name": "python",
   "nbconvert_exporter": "python",
   "pygments_lexer": "ipython3",
   "version": "3.8.3"
  }
 },
 "nbformat": 4,
 "nbformat_minor": 4
}
